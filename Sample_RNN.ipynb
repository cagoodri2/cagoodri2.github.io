{
  "nbformat": 4,
  "nbformat_minor": 0,
  "metadata": {
    "colab": {
      "provenance": [],
      "authorship_tag": "ABX9TyMucjEC8NPirca/eNQJWGWw",
      "include_colab_link": true
    },
    "kernelspec": {
      "name": "python3",
      "display_name": "Python 3"
    },
    "language_info": {
      "name": "python"
    }
  },
  "cells": [
    {
      "cell_type": "markdown",
      "metadata": {
        "id": "view-in-github",
        "colab_type": "text"
      },
      "source": [
        "<a href=\"https://colab.research.google.com/github/cagoodri2/cagoodri2.github.io/blob/master/Sample_RNN.ipynb\" target=\"_parent\"><img src=\"https://colab.research.google.com/assets/colab-badge.svg\" alt=\"Open In Colab\"/></a>"
      ]
    },
    {
      "cell_type": "markdown",
      "source": [
        "Author: Corissa Goodrich\n",
        "\n",
        "Project: Hybrid RNN for LSST Dataset\n",
        "\n",
        "The following code is not for reuse or replication by any party other than the original author."
      ],
      "metadata": {
        "id": "UFNgWIDuhgo9"
      }
    },
    {
      "cell_type": "code",
      "execution_count": null,
      "metadata": {
        "id": "VlKXOJQahSBg"
      },
      "outputs": [],
      "source": [
        "#Load Libraries\n",
        "import warnings\n",
        "warnings.simplefilter(action='ignore', category=FutureWarning)"
      ]
    },
    {
      "cell_type": "code",
      "source": [
        "import numpy as np\n",
        "import tensorflow as tf\n",
        "import pandas as pd\n",
        "import sklearn\n",
        "import imblearn\n",
        "from imblearn.over_sampling import RandomOverSampler\n",
        "from tensorflow import keras\n",
        "from tensorflow.keras.optimizers import Adam\n",
        "from sklearn.model_selection import train_test_split\n",
        "import matplotlib.pyplot as plt\n",
        "from keras_tuner.tuners import RandomSearch\n",
        "from tensorflow.keras.callbacks import EarlyStopping"
      ],
      "metadata": {
        "id": "C2i7TFFzh3zE"
      },
      "execution_count": null,
      "outputs": []
    },
    {
      "cell_type": "code",
      "source": [
        "#Accuracy & Loss Plots\n",
        "def accuracy_plot(history):\n",
        "    acc = history.history['accuracy']\n",
        "    val_acc = history.history['val_accuracy']\n",
        "    epochs_range = range(len(acc))\n",
        "    plt.figure(figsize=(6,4))\n",
        "    plt.plot(epochs_range, acc, label='Training Accuracy')\n",
        "    plt.plot(epochs_range, val_acc, label='Validation Accuracy')\n",
        "    plt.legend(loc='lower right')\n",
        "    plt.title('Training and Validation Accuracy')\n",
        "    plt.show()\n",
        "\n",
        "def loss_plot(history):\n",
        "    loss = history.history['loss']\n",
        "    val_loss = history.history['val_loss']\n",
        "    epochs_range = range(len(loss))\n",
        "    plt.figure(figsize=(6,4))\n",
        "    plt.plot(epochs_range, loss, label='Training Loss')\n",
        "    plt.plot(epochs_range, val_loss, label='Validation Loss')\n",
        "    plt.legend(loc='upper right')\n",
        "    plt.title('Training and Validation Loss')\n",
        "    plt.show()"
      ],
      "metadata": {
        "id": "mPARhvcFh6nZ"
      },
      "execution_count": null,
      "outputs": []
    },
    {
      "cell_type": "code",
      "source": [
        "### SAMPLE CODE FOR MODEL BUILD ###\n",
        "def build_model(hp):\n",
        "    #define shape\n",
        "    input_shape = (6, 36)\n",
        "\n",
        "    #normalize\n",
        "    normalizer = tf.keras.layers.Normalization()\n",
        "    normalizer.adapt(X_train)\n",
        "\n",
        "    #input with defined shape\n",
        "    inputs = tf.keras.layers.Input(shape=input_shape)\n",
        "\n",
        "    #normalize inputs\n",
        "    x = normalizer(inputs)\n",
        "\n",
        "    #RNN layers\n",
        "    x = tf.keras.layers.SimpleRNN(units=hp.Int('units_1', min_value=32, max_value=128, step=32),\n",
        "                                  activation='relu',\n",
        "                                  return_sequences=True)(x)\n",
        "    x = tf.keras.layers.Dropout(rate=hp.Float('dropout_1', min_value=0.0, max_value=0.5, step=0.1))(x)\n",
        "    x = tf.keras.layers.Conv1D(filters=hp.Int('filters_1', min_value=16, max_value=64, step=16),\n",
        "                               kernel_size=hp.Int('kernel_size_1', min_value=2, max_value=5),\n",
        "                               activation='relu',\n",
        "                               padding='same')(x)\n",
        "    x = tf.keras.layers.SimpleRNN(units=hp.Int('units_2', min_value=32, max_value=128, step=32),\n",
        "                                  activation='relu',\n",
        "                                  return_sequences=True)(x)\n",
        "    x = tf.keras.layers.Dropout(rate=hp.Float('dropout_2', min_value=0.0, max_value=0.5, step=0.1))(x)\n",
        "    x = tf.keras.layers.Dense(units=hp.Int('dense_units', min_value=32, max_value=128, step=32),\n",
        "                              activation='relu')(x)\n",
        "    x = tf.keras.layers.Flatten()(x)\n",
        "\n",
        "    #ouputs\n",
        "    outputs = tf.keras.layers.Dense(units=11, activation='softmax')(x)\n",
        "\n",
        "    #model compile\n",
        "    model = tf.keras.Model(inputs=inputs, outputs=outputs)\n",
        "    opt = Adam(learning_rate=hp.Choice('learning_rate', values=[1e-2, 1e-3, 1e-4]))\n",
        "    model.compile(optimizer=opt, loss='sparse_categorical_crossentropy', metrics=['accuracy'])\n",
        "\n",
        "    return model"
      ],
      "metadata": {
        "id": "ZlDXhXQgiFND"
      },
      "execution_count": null,
      "outputs": []
    },
    {
      "cell_type": "code",
      "source": [
        "### SAMPLE CODE FOR MODEL TUNING & TESTING\n",
        "stopping = EarlyStopping(monitor='val_loss', patience=3)"
      ],
      "metadata": {
        "id": "K0DFrvcTiPRZ"
      },
      "execution_count": null,
      "outputs": []
    },
    {
      "cell_type": "code",
      "source": [
        "tuner = RandomSearch(build_model, objective = 'val_accuracy', max_trials = 10, directory = 'hybrid_33', project_name= 'hybrid_33')"
      ],
      "metadata": {
        "id": "WIWVyou-iZDA"
      },
      "execution_count": null,
      "outputs": []
    },
    {
      "cell_type": "code",
      "source": [
        "tuner.search(X_train, y_train, epochs=10, validation_data=(X_valid, y_valid), callbacks=[stopping])"
      ],
      "metadata": {
        "id": "fGmcBWH8i1w4"
      },
      "execution_count": null,
      "outputs": []
    },
    {
      "cell_type": "code",
      "source": [
        "best_params = tuner.oracle.get_best_trials(num_trials=1)[0].hyperparameters\n",
        "print(tuner.oracle.get_best_trials(num_trials=1)[0].hyperparameters.values)"
      ],
      "metadata": {
        "id": "_RoXuaUbi9lt"
      },
      "execution_count": null,
      "outputs": []
    },
    {
      "cell_type": "code",
      "source": [
        "accuracy_plot(history)"
      ],
      "metadata": {
        "id": "ELDNp0r5jJ9H"
      },
      "execution_count": null,
      "outputs": []
    },
    {
      "cell_type": "code",
      "source": [
        "loss_plot(history)"
      ],
      "metadata": {
        "id": "yppsh9dWjNU2"
      },
      "execution_count": null,
      "outputs": []
    },
    {
      "cell_type": "code",
      "source": [
        "predictions = model.predict(X_test)"
      ],
      "metadata": {
        "id": "y8Bm3YdHjSNR"
      },
      "execution_count": null,
      "outputs": []
    }
  ]
}